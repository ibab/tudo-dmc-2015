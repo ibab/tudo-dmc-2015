{
 "cells": [
  {
   "cell_type": "code",
   "execution_count": null,
   "metadata": {
    "collapsed": true
   },
   "outputs": [],
   "source": [
    "%matplotlib inline\n",
    "from __future__ import (\n",
    "    print_function,\n",
    "    division,\n",
    "    unicode_literals\n",
    ")\n",
    "\n",
    "import itertools as it\n",
    "\n",
    "import numpy as np\n",
    "import pandas as pd\n",
    "import matplotlib\n",
    "import matplotlib.pyplot as plt\n",
    "import sklearn as skl\n",
    "import uncertainties as u\n",
    "import uncertainties.unumpy as unp\n",
    "\n",
    "matplotlib.style.use('ggplot')"
   ]
  },
  {
   "cell_type": "code",
   "execution_count": null,
   "metadata": {
    "collapsed": false
   },
   "outputs": [],
   "source": [
    "df = pd.read_csv('data/train.txt', delimiter='|')\n",
    "print(' '.join(df.columns))"
   ]
  },
  {
   "cell_type": "code",
   "execution_count": null,
   "metadata": {
    "collapsed": true
   },
   "outputs": [],
   "source": [
    "# Prices\n",
    "for num in (1, 2, 3):\n",
    "    df['logPrice{}'.format(num)] = np.log(df['price{}'.format(num)])\n",
    "    df['logBasePrice{}'.format(num)] = np.log(df['basePrice{}'.format(num)])"
   ]
  },
  {
   "cell_type": "code",
   "execution_count": null,
   "metadata": {
    "collapsed": false
   },
   "outputs": [],
   "source": [
    "# Datetime\n",
    "df.orderTime = pd.to_datetime(df.orderTime)\n",
    "df.couponsReceived = pd.to_datetime(df.couponsReceived)\n",
    "df['deltaT'] = (df.orderTime - df.couponsReceived).astype('int64')\n",
    "df['logDeltaT'] = np.log(df.deltaT)\n",
    "\n",
    "df['orderTime_weekday'] = df.orderTime.dt.dayofweek\n",
    "df['couponsReceived_weekday'] = df.couponsReceived.dt.dayofweek\n",
    "\n",
    "df['orderTime_minutes'] = df.orderTime.dt.hour * 60 + df.orderTime.dt.minute\n",
    "df['couponsReceived_minutes'] = df.couponsReceived.dt.hour * 60 + df.couponsReceived.dt.minute\n",
    "\n",
    "df['sameDay'] = df.orderTime.dt.dayofyear == df.couponsReceived.dt.dayofyear"
   ]
  },
  {
   "cell_type": "code",
   "execution_count": null,
   "metadata": {
    "collapsed": false
   },
   "outputs": [],
   "source": [
    "# Correlation plot include delta_t\n",
    "corr = df.corr()\n",
    "plt.imshow(corr, cmap='seismic', vmin=-1, vmax=1, interpolation='none')\n",
    "plt.colorbar()\n",
    "plt.xticks(np.arange(0, len(corr.columns)), corr.columns, rotation='vertical')\n",
    "plt.yticks(np.arange(0, len(corr.columns)), corr.columns)\n",
    "_ = 1\n",
    "#plt.tight_layout()\n",
    "#plt.savefig('corr.png', bbox_inches='tight')"
   ]
  },
  {
   "cell_type": "code",
   "execution_count": null,
   "metadata": {
    "collapsed": false
   },
   "outputs": [],
   "source": [
    "# Brands\n",
    "brands = reduce(lambda acc, x: acc.union(set(df['brand{}'.format(x)])), (1, 2, 3), set())\n",
    "    \n",
    "for num, brand in it.product((1, 2, 3), brands):\n",
    "    df['brand{}_{}'.format(num, brand)] = 0\n",
    "    \n",
    "for num, row in df.iterrows():\n",
    "    df.loc[num, 'brand1_{}'.format(row.brand1)] = 1\n",
    "    df.loc[num, 'brand2_{}'.format(row.brand2)] = 1\n",
    "    df.loc[num, 'brand3_{}'.format(row.brand3)] = 1"
   ]
  },
  {
   "cell_type": "code",
   "execution_count": null,
   "metadata": {
    "collapsed": false
   },
   "outputs": [],
   "source": [
    "variables = ('deltaT', 'logDeltaT', 'orderTime_weekday', 'orderTime_minutes',\n",
    "             'sameDay', 'premiumProduct{}', 'price{}', 'basePrice{}', 'reward{}',\n",
    "             'logPrice{}', 'logBasePrice{}')\n",
    "\n",
    "ncols = 3\n",
    "nrows = len(variables)\n",
    "\n",
    "plt.figure(figsize=(ncols * 5, nrows * 4))\n",
    "for num in (1, 2, 3):\n",
    "    crit = 'coupon{}Used'.format(num)\n",
    "    sig = df[df[crit] == 1]\n",
    "    bkg = df[df[crit] == 0]\n",
    "    \n",
    "    for i, var in enumerate(variables):\n",
    "        if '{}' in var:\n",
    "            var = var.format(num)\n",
    "        plt.subplot(nrows, ncols, i * ncols + num)\n",
    "        _, bins, _ = plt.hist(sig[var].values, alpha=0.5, normed=True, label='Sig')\n",
    "        plt.hist(bkg[var].values, bins=bins, alpha=0.5, normed=True, label='Bkg')\n",
    "        plt.xlabel('{}'.format(var), ha='right', x=1)\n",
    "        plt.ylabel('relative frequency', ha='right', y=1)\n",
    "    plt.tight_layout()\n",
    "    plt.savefig('sep.png', bbox_layout='tight')"
   ]
  },
  {
   "cell_type": "code",
   "execution_count": null,
   "metadata": {
    "collapsed": false
   },
   "outputs": [],
   "source": [
    "# Attempt some simple MVA\n",
    "columns = [\n",
    "    'deltaT',\n",
    "    'logDeltaT',\n",
    "    'price1',\n",
    "    'price2',\n",
    "    'price3',\n",
    "    'basePrice1',\n",
    "    'basePrice2',\n",
    "    'basePrice3',\n",
    "    'reward1',\n",
    "    'reward2',\n",
    "    'reward3',\n",
    "    'premiumProduct1',\n",
    "    'premiumProduct2',\n",
    "    'premiumProduct3',\n",
    "    'orderTime_minutes',\n",
    "    'orderTime_weekday',\n",
    "    'couponsReceived_minutes',\n",
    "    'couponsReceived_weekday',\n",
    "    'sameDay'\n",
    "]\n",
    "labels = ['coupon1Used']\n",
    "\n",
    "X = df[columns].values\n",
    "Y = df[labels].values"
   ]
  },
  {
   "cell_type": "code",
   "execution_count": null,
   "metadata": {
    "collapsed": false
   },
   "outputs": [],
   "source": [
    "from sklearn.ensemble import (\n",
    "    ExtraTreesClassifier,\n",
    "    RandomForestClassifier\n",
    ")\n",
    "from sklearn.cross_validation import cross_val_score\n",
    "\n",
    "classifiers = {\n",
    "    'Random Forest': RandomForestClassifier()\n",
    "}\n",
    "\n",
    "def score2ufloat(score):\n",
    "    return u.ufloat(score.mean(), score.std())\n",
    "\n",
    "for name, clf in classifiers.iteritems():\n",
    "    print(name)\n",
    "    for num in (1, 2, 3):\n",
    "        y = df['coupon{}Used'.format(num)].values\n",
    "        score = score2ufloat(cross_val_score(clf, X, y, n_jobs=-1))\n",
    "        print(\"\\t{}: ({:P})%\".format(num, score * 100))"
   ]
  }
 ],
 "metadata": {
  "kernelspec": {
   "display_name": "Python 2",
   "language": "python",
   "name": "python2"
  },
  "language_info": {
   "codemirror_mode": {
    "name": "ipython",
    "version": 2
   },
   "file_extension": ".py",
   "mimetype": "text/x-python",
   "name": "python",
   "nbconvert_exporter": "python",
   "pygments_lexer": "ipython2",
   "version": "2.7.9"
  }
 },
 "nbformat": 4,
 "nbformat_minor": 0
}
