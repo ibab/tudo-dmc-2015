{
 "cells": [
  {
   "cell_type": "code",
   "execution_count": null,
   "metadata": {
    "collapsed": true
   },
   "outputs": [],
   "source": [
    "%matplotlib inline\n",
    "from __future__ import (\n",
    "    print_function,\n",
    "    division,\n",
    "    unicode_literals\n",
    ")\n",
    "\n",
    "import itertools as it\n",
    "\n",
    "import numpy as np\n",
    "import pandas as pd\n",
    "import matplotlib\n",
    "import matplotlib.pyplot as plt\n",
    "import sklearn as skl\n",
    "\n",
    "matplotlib.style.use('ggplot')"
   ]
  },
  {
   "cell_type": "code",
   "execution_count": null,
   "metadata": {
    "collapsed": false
   },
   "outputs": [],
   "source": [
    "df = pd.read_csv('data/train.txt', delimiter='|')\n",
    "print(' '.join(df.columns))"
   ]
  },
  {
   "cell_type": "code",
   "execution_count": null,
   "metadata": {
    "collapsed": false
   },
   "outputs": [],
   "source": [
    "# Datetime\n",
    "df.orderTime = pd.to_datetime(df.orderTime)\n",
    "df.couponsReceived = pd.to_datetime(df.couponsReceived)\n",
    "df['deltaT'] = (df.orderTime - df.couponsReceived).astype('int64')"
   ]
  },
  {
   "cell_type": "code",
   "execution_count": null,
   "metadata": {
    "collapsed": false
   },
   "outputs": [],
   "source": [
    "# Correlation plot include delta_t\n",
    "corr = df.corr()\n",
    "plt.imshow(corr, cmap='seismic', vmin=-1, vmax=1, interpolation='none')\n",
    "plt.colorbar()\n",
    "plt.xticks(np.arange(0, len(corr.columns)), corr.columns, rotation='vertical')\n",
    "plt.yticks(np.arange(0, len(corr.columns)), corr.columns)\n",
    "_ = 1\n",
    "#plt.tight_layout()\n",
    "#plt.savefig('corr.png', bbox_inches='tight')"
   ]
  },
  {
   "cell_type": "code",
   "execution_count": null,
   "metadata": {
    "collapsed": false
   },
   "outputs": [],
   "source": [
    "# Brands\n",
    "brands = reduce(lambda acc, x: acc.union(set(df['brand{}'.format(x)])), (1, 2, 3), set())\n",
    "    \n",
    "for num, brand in it.product((1, 2, 3), brands):\n",
    "    df['brand{}_{}'.format(num, brand)] = 0\n",
    "    \n",
    "for num, row in df.iterrows():\n",
    "    df.loc[num, 'brand1_{}'.format(row.brand1)] = 1\n",
    "    df.loc[num, 'brand2_{}'.format(row.brand2)] = 1\n",
    "    df.loc[num, 'brand3_{}'.format(row.brand3)] = 1"
   ]
  },
  {
   "cell_type": "code",
   "execution_count": null,
   "metadata": {
    "collapsed": false
   },
   "outputs": [],
   "source": [
    "sig = df[df.coupon1Used == 1]\n",
    "bkg = df[df.coupon1Used == 0]\n",
    "\n",
    "plt.hist(sig.deltaT.values, alpha=0.5, normed=True)\n",
    "plt.hist(bkg.deltaT.values, alpha=0.5, normed=True)\n",
    "_ = 1"
   ]
  }
 ],
 "metadata": {
  "kernelspec": {
   "display_name": "Python 2",
   "language": "python",
   "name": "python2"
  },
  "language_info": {
   "codemirror_mode": {
    "name": "ipython",
    "version": 2
   },
   "file_extension": ".py",
   "mimetype": "text/x-python",
   "name": "python",
   "nbconvert_exporter": "python",
   "pygments_lexer": "ipython2",
   "version": "2.7.9"
  }
 },
 "nbformat": 4,
 "nbformat_minor": 0
}
