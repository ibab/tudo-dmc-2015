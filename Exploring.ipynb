{
 "cells": [
  {
   "cell_type": "code",
   "execution_count": null,
   "metadata": {
    "collapsed": true
   },
   "outputs": [],
   "source": [
    "%matplotlib inline\n",
    "from __future__ import (\n",
    "    print_function,\n",
    "    division,\n",
    "    unicode_literals\n",
    ")\n",
    "\n",
    "import numpy as np\n",
    "import pandas as pd\n",
    "import matplotlib\n",
    "import matplotlib.pyplot as plt\n",
    "import sklearn as skl\n",
    "\n",
    "matplotlib.style.use('ggplot')"
   ]
  },
  {
   "cell_type": "code",
   "execution_count": null,
   "metadata": {
    "collapsed": false
   },
   "outputs": [],
   "source": [
    "df = pd.read_csv('DMC_2015_orders_train.txt', delimiter='|')\n",
    "df.orderTime = pd.to_datetime(df.orderTime)\n",
    "df.couponsReceived = pd.to_datetime(df.couponsReceived)\n",
    "df['deltaT'] = (df.orderTime - df.couponsReceived)\n",
    "ascat = ['brand', '']\n",
    "print(', '.join(df.columns))"
   ]
  },
  {
   "cell_type": "code",
   "execution_count": null,
   "metadata": {
    "collapsed": false
   },
   "outputs": [],
   "source": [
    "sig = df[df.coupon1Used == 1]\n",
    "bkg = df[df.coupon1Used == 0]\n",
    "\n",
    "plt.hist([float(t) for t in sig.deltaT.values], alpha=0.5, normed=True)\n",
    "plt.hist([float(t) for t in bkg.deltaT.values], alpha=0.5, normed=True)"
   ]
  },
  {
   "cell_type": "code",
   "execution_count": null,
   "metadata": {
    "collapsed": true
   },
   "outputs": [],
   "source": [
    "from sklearn.ensemble import AdaBoostClassifier\n",
    "from sklearn.tree import DecisionTreeClassifier\n",
    "\n",
    "bdt = AdaBoostClassifier(DecisionTreeClassifier(max_depth=1),\n",
    "                         algorithm=\"SAMME\",\n",
    "                         n_estimators=200)\n",
    "\n",
    "#bdt.fit(X, y)"
   ]
  },
  {
   "cell_type": "code",
   "execution_count": null,
   "metadata": {
    "collapsed": true
   },
   "outputs": [],
   "source": [
    "a = df.brand1.astype('category')\n",
    "b = df.brand2.astype('category')\n",
    "c = df.brand3.astype('category')\n",
    "len(set(a.unique()).union(b.unique()).union(c.unique()))"
   ]
  },
  {
   "cell_type": "code",
   "execution_count": null,
   "metadata": {
    "collapsed": false
   },
   "outputs": [],
   "source": [
    "corr = df.corr()\n",
    "plt.imshow(corr, cmap='seismic', vmin=-1, vmax=1, interpolation='none')\n",
    "plt.colorbar()\n",
    "plt.xticks(np.arange(0, len(corr.columns)), \n",
    "           corr.columns, rotation='vertical')\n",
    "plt.yticks(np.arange(0, len(corr.columns)), \n",
    "           corr.columns)\n",
    "_ = 1"
   ]
  }
 ],
 "metadata": {
  "kernelspec": {
   "display_name": "Python 2",
   "language": "python",
   "name": "python2"
  },
  "language_info": {
   "codemirror_mode": {
    "name": "ipython",
    "version": 2
   },
   "file_extension": ".py",
   "mimetype": "text/x-python",
   "name": "python",
   "nbconvert_exporter": "python",
   "pygments_lexer": "ipython2",
   "version": "2.7.9"
  }
 },
 "nbformat": 4,
 "nbformat_minor": 0
}
